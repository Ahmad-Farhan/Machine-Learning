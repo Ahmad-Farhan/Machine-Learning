{
 "cells": [
  {
   "cell_type": "code",
   "execution_count": 1,
   "metadata": {},
   "outputs": [],
   "source": [
    "import numpy as np\n",
    "import pandas as pd\n",
    "import matplotlib.pyplot as plt"
   ]
  },
  {
   "cell_type": "code",
   "execution_count": 2,
   "metadata": {},
   "outputs": [],
   "source": [
    "def entropy(y):\n",
    "    hist = np.bincount(y)\n",
    "    ps = hist / np.sum(hist)\n",
    "    return -np.sum([p * np.log2(p) for p in ps if p > 0])"
   ]
  },
  {
   "cell_type": "code",
   "execution_count": 3,
   "metadata": {},
   "outputs": [],
   "source": [
    "def mse(y):\n",
    "    return np.mean((y - np.mean(y)) ** 2)"
   ]
  },
  {
   "cell_type": "code",
   "execution_count": 4,
   "metadata": {},
   "outputs": [],
   "source": [
    "def gini(y):\n",
    "    hist = np.bincount(y)\n",
    "    n = np.sum(hist)\n",
    "    return 1 - sum([(i/n)**2 for i in hist])"
   ]
  },
  {
   "cell_type": "code",
   "execution_count": 5,
   "metadata": {},
   "outputs": [],
   "source": [
    "class Node:\n",
    "    def __init__(self, left, right, rule):\n",
    "        self.left = left\n",
    "        self.right = right\n",
    "        self.feature = rule[0]\n",
    "        self.thresh = rule[1]"
   ]
  },
  {
   "cell_type": "code",
   "execution_count": 6,
   "metadata": {},
   "outputs": [],
   "source": [
    "class Leaf:\n",
    "    def __init__(self, value):\n",
    "        '''\n",
    "        if classifier == True:, value = array of probs\n",
    "        else: value = mean of region\n",
    "        '''\n",
    "        self.value = value"
   ]
  },
  {
   "cell_type": "code",
   "execution_count": 7,
   "metadata": {},
   "outputs": [],
   "source": [
    "class DecisionTree:\n",
    "    def __init__(self, classifier=True, max_depth=None, n_feats=None, criterion='entropy',seed=None,):\n",
    "        if seed: np.random.seed(seed)\n",
    "        self.depth = 0\n",
    "        self.root = None\n",
    "        self.n_feats = n_feats\n",
    "        self.criterion = criterion\n",
    "        self.classifier = classifier\n",
    "        self.max_depth = max_depth if max_depth else np.inf\n",
    "        \n",
    "        if not classifier and criterion in ['gini', 'entropy']:\n",
    "            raise ValueError(f\"{criterion} valid when classifier = True\")\n",
    "        if classifier and criterion == 'mse':\n",
    "            raise ValueError(f\"{criterion} valid when classifier = False\")\n",
    "        \n",
    "    def fit(self, x, y):\n",
    "        #let target classes represented as integers so max(y) = 0,1,2,3..n \n",
    "        self.n_classes = max(y) + 1 if self.classifier else None\n",
    "        #if num of feats is None then n_cols in x, otherwise min cols\n",
    "        self.n_feats = x.shape[1] if not self.n_feats else min(self.n_feats, x.shape[1])\n",
    "        self.root = self._grow(x, y)\n",
    "    \n",
    "    def predict(self, x):\n",
    "        return np.array([self._traverse(xi, self.root) for xi in x])\n",
    "    \n",
    "    def predict_class_probs(self, x):\n",
    "        assert self.classifier, \"'predict_class_probs' undefined for classifier = False\"\n",
    "        return np.array([self._traverse(xi, self.root, prob=True) for xi in x])\n",
    "\n",
    "    # Recursively Builds Tree\n",
    "    def _grow(self, x, y, cur_depth=0):\n",
    "        if len(set(y)) == 1: # all y are same class\n",
    "            if self.classifier: # classification problem\n",
    "                prob = np.zeros(self.n_classes) #Prob of All classes = 0 \n",
    "                prob[y[0]] = 1.0                #except present class\n",
    "            return Leaf(prob) if self.classifier else Leaf(y[0])\n",
    "        \n",
    "        if cur_depth >= self.max_depth: #Max depth reached, stopping condition\n",
    "            v = np.mean(y, axis=0)\n",
    "            if self.classifier: #prob of each class = no. of class vals/total vals\n",
    "                v = np.bincount(y, minlength=self.n_classes) / len(y) \n",
    "            return Leaf(v)\n",
    "        # max depth not reached\n",
    "        cur_depth += 1\n",
    "        # current depth is max of depth stored in tree and tracked depth\n",
    "        self.depth = max(self.depth, cur_depth)\n",
    "        \n",
    "        n, m = x.shape\n",
    "        # Randomizing the order of column indexes of x[0,1,2,3]\n",
    "        # After randomization feats_idx = [3,0,1,2] etc\n",
    "        feats_idx = np.random.choice(m, self.n_feats, replace=False)\n",
    "        # greedily select the best split according to `criterion`\n",
    "        feat, thresh = self._segment(x, y, feats_idx)\n",
    "        \n",
    "        # Determining left and right children like Binary Search Trees\n",
    "        # Left are values less-equal to thresh\n",
    "        # Right are values greater than thresh\n",
    "        l = np.argwhere(x[:, feat] <= thresh).flatten()\n",
    "        r = np.argwhere(x[:, feat] > thresh).flatten()\n",
    "        left = self._grow(x[l,:], y[l], cur_depth)\n",
    "        right = self._grow(x[r,:], y[r], cur_depth)\n",
    "        \n",
    "        return Node(left, right, (feat, thresh))\n",
    "\n",
    "    def _segment(self, x, y, feat_idx):\n",
    "        '''\n",
    "        Find optimal split rule(feature index, and split threshold value)\n",
    "        for data according to self.criterion i.e.,entropy, mse, gini \n",
    "        feat_idx = randomized order of feature indexes\n",
    "        '''\n",
    "        best_gain = -np.inf # negative infinity\n",
    "        split_idx, split_thresh = None, None\n",
    "        for i in feat_idx:\n",
    "            vals = x[:, i]  # vector of feature(column) values\n",
    "            levels = np.unique(vals) # all possible values of the feature\n",
    "            # if levels = [1,2,3,4,5], we are selecting ([1,2,3,4] + [2,3,4,5])/ 2 which will be [1.5,2.5,3.5,4.5] \n",
    "            thresh = (levels[:-1] + levels[1:]) / 2 if len(levels) > 1 else levels\n",
    "\n",
    "            # Reduction in impurity achieved by splitting given feat at t\n",
    "            gains = np.array([self._impurity_gain(y, t, vals) for t in thresh])\n",
    "\n",
    "            # Noting feature, split_index, and minimum impurity \n",
    "            if gains.max() > best_gain:\n",
    "                split_idx = i # index\n",
    "                best_gain = gains.max() # minimum impurity\n",
    "                split_thresh = thresh[gains.argmax()] # threshold value                \n",
    "        return split_idx, split_thresh\n",
    "\n",
    "    def _impurity_gain(self, y, split_thresh, feat_values):\n",
    "        '''\n",
    "        Computing impurity gain with given split\n",
    "        Impurity_gain(split) = loss(parent) - weighted_avg[loss(left_child), loss(right_child)]\n",
    "        '''\n",
    "        # func pointer to selected loss function(polymorphism)\n",
    "        if self.criterion == 'entropy':\n",
    "            loss = entropy\n",
    "        elif self.criterion == 'gini':\n",
    "            loss = gini\n",
    "        elif self.criterion == 'mse':\n",
    "            loss = mse\n",
    "        parent_loss = loss(y) #loss before split\n",
    "\n",
    "        # splitting vector based on threshold value\n",
    "        left = np.argwhere(feat_values <= split_thresh).flatten()\n",
    "        right = np.argwhere(feat_values > split_thresh).flatten()\n",
    "        n_l, n_r = len(left), len(right)\n",
    "\n",
    "        # No gain in impurity i.e, parent = [0,1,2,3] , l or r = [0,1,2,3]\n",
    "        if n_l == 0 or n_r == 0: return 0 # No gains in making given split\n",
    "\n",
    "        # Computing weighted avg. of loss for children\n",
    "        n = len(y)\n",
    "        e_l, e_r = loss(y[left]), loss(y[right])\n",
    "        child_loss = (n_l / n) * e_l + (n_r / n) * e_r\n",
    "        return parent_loss - child_loss\n",
    "\n",
    "    def _traverse(self, x, node, prob=False):\n",
    "        '''Simple recursive depth first traversal of tree'''\n",
    "        if isinstance(node, Leaf):\n",
    "            if self.classifier:\n",
    "                return node.value if prob else node.value.argmax()\n",
    "            return node.value\n",
    "        \n",
    "        if x[node.feature] <= node.thresh:\n",
    "            return self._traverse(x, node.left, prob)\n",
    "        return self._traverse(x, node.right, prob) \n",
    "    \n",
    "    def accuracy(self, x, y_true):\n",
    "        y_pred = self.predict(x)\n",
    "        return np.sum(y_pred == y_true)/len(y_true)"
   ]
  },
  {
   "cell_type": "code",
   "execution_count": 8,
   "metadata": {},
   "outputs": [
    {
     "name": "stdout",
     "output_type": "stream",
     "text": [
      "Total Records:  1728\n"
     ]
    },
    {
     "data": {
      "text/html": [
       "<div>\n",
       "<style scoped>\n",
       "    .dataframe tbody tr th:only-of-type {\n",
       "        vertical-align: middle;\n",
       "    }\n",
       "\n",
       "    .dataframe tbody tr th {\n",
       "        vertical-align: top;\n",
       "    }\n",
       "\n",
       "    .dataframe thead th {\n",
       "        text-align: right;\n",
       "    }\n",
       "</style>\n",
       "<table border=\"1\" class=\"dataframe\">\n",
       "  <thead>\n",
       "    <tr style=\"text-align: right;\">\n",
       "      <th></th>\n",
       "      <th>buying</th>\n",
       "      <th>maint</th>\n",
       "      <th>doors</th>\n",
       "      <th>persons</th>\n",
       "      <th>lug_boot</th>\n",
       "      <th>safety</th>\n",
       "      <th>class</th>\n",
       "    </tr>\n",
       "  </thead>\n",
       "  <tbody>\n",
       "    <tr>\n",
       "      <th>0</th>\n",
       "      <td>vhigh</td>\n",
       "      <td>vhigh</td>\n",
       "      <td>2</td>\n",
       "      <td>2</td>\n",
       "      <td>small</td>\n",
       "      <td>low</td>\n",
       "      <td>unacc</td>\n",
       "    </tr>\n",
       "    <tr>\n",
       "      <th>1</th>\n",
       "      <td>vhigh</td>\n",
       "      <td>vhigh</td>\n",
       "      <td>2</td>\n",
       "      <td>2</td>\n",
       "      <td>small</td>\n",
       "      <td>med</td>\n",
       "      <td>unacc</td>\n",
       "    </tr>\n",
       "    <tr>\n",
       "      <th>2</th>\n",
       "      <td>vhigh</td>\n",
       "      <td>vhigh</td>\n",
       "      <td>2</td>\n",
       "      <td>2</td>\n",
       "      <td>small</td>\n",
       "      <td>high</td>\n",
       "      <td>unacc</td>\n",
       "    </tr>\n",
       "    <tr>\n",
       "      <th>3</th>\n",
       "      <td>vhigh</td>\n",
       "      <td>vhigh</td>\n",
       "      <td>2</td>\n",
       "      <td>2</td>\n",
       "      <td>med</td>\n",
       "      <td>low</td>\n",
       "      <td>unacc</td>\n",
       "    </tr>\n",
       "    <tr>\n",
       "      <th>4</th>\n",
       "      <td>vhigh</td>\n",
       "      <td>vhigh</td>\n",
       "      <td>2</td>\n",
       "      <td>2</td>\n",
       "      <td>med</td>\n",
       "      <td>med</td>\n",
       "      <td>unacc</td>\n",
       "    </tr>\n",
       "  </tbody>\n",
       "</table>\n",
       "</div>"
      ],
      "text/plain": [
       "  buying  maint doors persons lug_boot safety  class\n",
       "0  vhigh  vhigh     2       2    small    low  unacc\n",
       "1  vhigh  vhigh     2       2    small    med  unacc\n",
       "2  vhigh  vhigh     2       2    small   high  unacc\n",
       "3  vhigh  vhigh     2       2      med    low  unacc\n",
       "4  vhigh  vhigh     2       2      med    med  unacc"
      ]
     },
     "execution_count": 8,
     "metadata": {},
     "output_type": "execute_result"
    }
   ],
   "source": [
    "file = pd.read_csv('../ML/Datasets/carstats.csv')\n",
    "print(\"Total Records: \", len(file))\n",
    "data = file.values\n",
    "file.head()"
   ]
  },
  {
   "cell_type": "code",
   "execution_count": 9,
   "metadata": {},
   "outputs": [
    {
     "data": {
      "text/plain": [
       "[array(['high', 'low', 'med', 'vhigh'], dtype=object),\n",
       " array(['high', 'low', 'med', 'vhigh'], dtype=object),\n",
       " array(['2', '3', '4', '5more'], dtype=object),\n",
       " array(['2', '4', 'more'], dtype=object),\n",
       " array(['big', 'med', 'small'], dtype=object),\n",
       " array(['high', 'low', 'med'], dtype=object),\n",
       " array(['acc', 'good', 'unacc', 'vgood'], dtype=object)]"
      ]
     },
     "execution_count": 9,
     "metadata": {},
     "output_type": "execute_result"
    }
   ],
   "source": [
    "columns = []\n",
    "for idx in range(len(data[0])):\n",
    "    columns.append(np.unique(data[:, idx]))\n",
    "columns"
   ]
  },
  {
   "cell_type": "code",
   "execution_count": 10,
   "metadata": {},
   "outputs": [
    {
     "data": {
      "text/plain": [
       "[array([0, 1, 2, 3], dtype=object),\n",
       " array([0, 1, 2, 3], dtype=object),\n",
       " array([0, 1, 2, 3], dtype=object),\n",
       " array([0, 1, 2], dtype=object),\n",
       " array([0, 1, 2], dtype=object),\n",
       " array([0, 1, 2], dtype=object),\n",
       " array([0, 1, 2, 3], dtype=object)]"
      ]
     },
     "execution_count": 10,
     "metadata": {},
     "output_type": "execute_result"
    }
   ],
   "source": [
    "for i in range(len(data[0])):\n",
    "    feature = data[:, i]\n",
    "    classes = columns[i]\n",
    "    for idx, class_ in enumerate(classes):\n",
    "        feature[feature == class_] = idx\n",
    "columns = []\n",
    "for idx in range(len(data[0])):\n",
    "    columns.append(np.unique(data[:, idx]))\n",
    "columns"
   ]
  },
  {
   "cell_type": "code",
   "execution_count": 11,
   "metadata": {},
   "outputs": [
    {
     "name": "stdout",
     "output_type": "stream",
     "text": [
      "Train Data: 1382, Test Data: 346\n"
     ]
    },
    {
     "data": {
      "text/plain": [
       "(array([[3, 3, 0, 0, 2, 1],\n",
       "        [3, 3, 0, 0, 2, 2],\n",
       "        [3, 3, 0, 0, 2, 0],\n",
       "        ...,\n",
       "        [1, 3, 3, 0, 2, 0],\n",
       "        [1, 3, 3, 0, 1, 1],\n",
       "        [1, 3, 3, 0, 1, 2]]),\n",
       " array([2, 2, 2, ..., 2, 2, 2]))"
      ]
     },
     "execution_count": 11,
     "metadata": {},
     "output_type": "execute_result"
    }
   ],
   "source": [
    "x, y = data[:,:-1].astype(int), data[:,-1:].flatten().astype(int)\n",
    "x_test, y_test = x[int(0.8*len(x)):], y[int(0.8*len(y)):]\n",
    "x, y = x[:int(0.8*len(x))], y[:int(0.8*len(y))]\n",
    "print(f\"Train Data: {len(x)}, Test Data: {len(x_test)}\")\n",
    "x,y"
   ]
  },
  {
   "cell_type": "code",
   "execution_count": 12,
   "metadata": {},
   "outputs": [],
   "source": [
    "tree = DecisionTree(max_depth=10, criterion='entropy')\n",
    "tree.fit(x, y)"
   ]
  },
  {
   "cell_type": "code",
   "execution_count": 13,
   "metadata": {},
   "outputs": [
    {
     "name": "stdout",
     "output_type": "stream",
     "text": [
      "Train Accuracy:  0.9876989869753979\n",
      "Test Accuracy:  0.6705202312138728\n"
     ]
    }
   ],
   "source": [
    "print(\"Train Accuracy: \", tree.accuracy(x, y))\n",
    "print(\"Test Accuracy: \", tree.accuracy(x_test, y_test))"
   ]
  }
 ],
 "metadata": {
  "kernelspec": {
   "display_name": "base",
   "language": "python",
   "name": "python3"
  },
  "language_info": {
   "codemirror_mode": {
    "name": "ipython",
    "version": 3
   },
   "file_extension": ".py",
   "mimetype": "text/x-python",
   "name": "python",
   "nbconvert_exporter": "python",
   "pygments_lexer": "ipython3",
   "version": "3.11.4"
  }
 },
 "nbformat": 4,
 "nbformat_minor": 2
}
