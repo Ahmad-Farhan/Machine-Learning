{
 "cells": [
  {
   "cell_type": "markdown",
   "metadata": {},
   "source": [
    "## Binary Logistic Regression\n",
    "Dataset: iris"
   ]
  },
  {
   "cell_type": "code",
   "execution_count": 2,
   "metadata": {},
   "outputs": [],
   "source": [
    "import math\n",
    "import numpy as np\n",
    "import pandas as pd\n",
    "import matplotlib.pyplot as plt "
   ]
  },
  {
   "cell_type": "code",
   "execution_count": 3,
   "metadata": {},
   "outputs": [
    {
     "data": {
      "text/html": [
       "<div>\n",
       "<style scoped>\n",
       "    .dataframe tbody tr th:only-of-type {\n",
       "        vertical-align: middle;\n",
       "    }\n",
       "\n",
       "    .dataframe tbody tr th {\n",
       "        vertical-align: top;\n",
       "    }\n",
       "\n",
       "    .dataframe thead th {\n",
       "        text-align: right;\n",
       "    }\n",
       "</style>\n",
       "<table border=\"1\" class=\"dataframe\">\n",
       "  <thead>\n",
       "    <tr style=\"text-align: right;\">\n",
       "      <th></th>\n",
       "      <th>sepal_length</th>\n",
       "      <th>sepal_width</th>\n",
       "      <th>petal_length</th>\n",
       "      <th>petal_width</th>\n",
       "      <th>species</th>\n",
       "    </tr>\n",
       "  </thead>\n",
       "  <tbody>\n",
       "    <tr>\n",
       "      <th>0</th>\n",
       "      <td>5.1</td>\n",
       "      <td>3.5</td>\n",
       "      <td>1.4</td>\n",
       "      <td>0.2</td>\n",
       "      <td>setosa</td>\n",
       "    </tr>\n",
       "    <tr>\n",
       "      <th>1</th>\n",
       "      <td>4.9</td>\n",
       "      <td>3.0</td>\n",
       "      <td>1.4</td>\n",
       "      <td>0.2</td>\n",
       "      <td>setosa</td>\n",
       "    </tr>\n",
       "    <tr>\n",
       "      <th>2</th>\n",
       "      <td>4.7</td>\n",
       "      <td>3.2</td>\n",
       "      <td>1.3</td>\n",
       "      <td>0.2</td>\n",
       "      <td>setosa</td>\n",
       "    </tr>\n",
       "    <tr>\n",
       "      <th>3</th>\n",
       "      <td>4.6</td>\n",
       "      <td>3.1</td>\n",
       "      <td>1.5</td>\n",
       "      <td>0.2</td>\n",
       "      <td>setosa</td>\n",
       "    </tr>\n",
       "    <tr>\n",
       "      <th>4</th>\n",
       "      <td>5.0</td>\n",
       "      <td>3.6</td>\n",
       "      <td>1.4</td>\n",
       "      <td>0.2</td>\n",
       "      <td>setosa</td>\n",
       "    </tr>\n",
       "  </tbody>\n",
       "</table>\n",
       "</div>"
      ],
      "text/plain": [
       "   sepal_length  sepal_width  petal_length  petal_width species\n",
       "0           5.1          3.5           1.4          0.2  setosa\n",
       "1           4.9          3.0           1.4          0.2  setosa\n",
       "2           4.7          3.2           1.3          0.2  setosa\n",
       "3           4.6          3.1           1.5          0.2  setosa\n",
       "4           5.0          3.6           1.4          0.2  setosa"
      ]
     },
     "execution_count": 3,
     "metadata": {},
     "output_type": "execute_result"
    }
   ],
   "source": [
    "file = pd.read_csv('../ML/Datasets/iris.csv')\n",
    "file = file.query(\"species == ('setosa', 'versicolor')\")\n",
    "\n",
    "x1 = file['sepal_length'].values\n",
    "x2 = file['sepal_width'].values\n",
    "y = file['species'].values\n",
    "\n",
    "y = (y == 'setosa').astype(int)\n",
    "x = np.c_[x1, x2]\n",
    "\n",
    "file.head()"
   ]
  },
  {
   "cell_type": "code",
   "execution_count": 4,
   "metadata": {},
   "outputs": [
    {
     "data": {
      "image/png": "[encoded data removed]",
      "text/plain": [
       "<Figure size 640x480 with 1 Axes>"
      ]
     },
     "metadata": {},
     "output_type": "display_data"
    }
   ],
   "source": [
    "def plot_data():\n",
    "    plt.scatter(x1[np.where(y == 1)], x2[np.where(y == 1)], label='setosa')\n",
    "    plt.scatter(x1[np.where(y == 0)], x2[np.where(y == 0)], marker= '+', label='versicolor')\n",
    "    plt.title(\"Iris Dataset\")\n",
    "    plt.xlabel(\"sepal_length\")\n",
    "    plt.ylabel(\"sepal_width\")\n",
    "    plt.legend()\n",
    "    plt.show()\n",
    "plot_data()"
   ]
  },
  {
   "cell_type": "code",
   "execution_count": 5,
   "metadata": {},
   "outputs": [],
   "source": [
    "def sigmoid(z):\n",
    "    return 1/(1 + np.exp(-z))"
   ]
  },
  {
   "cell_type": "code",
   "execution_count": 6,
   "metadata": {},
   "outputs": [],
   "source": [
    "def compute_cost(x, y, w, b, lambda_ = 1):\n",
    "    m,n = x.shape\n",
    "    cost = 0\n",
    "    for i in range(m):\n",
    "        z = sigmoid(np.dot(x[i],w) + b)\n",
    "        cost += -y[i] * np.log(z) - (1-y[i]) * np.log(1-z)\n",
    "    return cost /m"
   ]
  },
  {
   "cell_type": "code",
   "execution_count": 7,
   "metadata": {},
   "outputs": [],
   "source": [
    "def compute_grad(x, y, w, b, lambda_ = None):\n",
    "    m, n = x.shape\n",
    "    dw, db = np.zeros(w.shape), 0.\n",
    "   \n",
    "    for i in range(m):\n",
    "        yi = sigmoid(np.dot(x[i], w) + b)\n",
    "        err = yi - y[i]\n",
    "\n",
    "        for j in range(n):\n",
    "            dw[j] += err * x[i, j]\n",
    "\n",
    "        db += err\n",
    "\n",
    "    return dw/m, db/m"
   ]
  },
  {
   "cell_type": "code",
   "execution_count": 8,
   "metadata": {},
   "outputs": [],
   "source": [
    "def gradient_descent(x, y, w_in, b_in, alpha, lambda_, iters, cost_func, grad_func):\n",
    "    m = len(x)\n",
    "    j_hist, w_hist = [], []\n",
    "\n",
    "    for i in range(iters):\n",
    "        dw, db = grad_func(x, y, w_in, b_in, lambda_)\n",
    "        w_in -= alpha * dw\n",
    "        b_in -= alpha * db\n",
    "\n",
    "        if(i<100000):\n",
    "            cost = cost_func(x, y, w_in, b_in, lambda_)\n",
    "            j_hist.append(cost)\n",
    "\n",
    "        if i% math.ceil(iters/10) == 0 or i == (iters-1):\n",
    "            w_hist.append(w_in)\n",
    "            print(f\"Iteration {i:4}: Cost {float(j_hist[-1]):8.2f}\")\n",
    "\n",
    "    return w_in, b_in, j_hist, w_hist"
   ]
  },
  {
   "cell_type": "code",
   "execution_count": 9,
   "metadata": {},
   "outputs": [
    {
     "name": "stdout",
     "output_type": "stream",
     "text": [
      "Iteration    0: Cost     3.90\n",
      "Iteration 1000: Cost     0.45\n",
      "Iteration 2000: Cost     0.31\n",
      "Iteration 3000: Cost     0.24\n",
      "Iteration 4000: Cost     0.20\n",
      "Iteration 5000: Cost     0.18\n",
      "Iteration 6000: Cost     0.16\n",
      "Iteration 7000: Cost     0.15\n",
      "Iteration 8000: Cost     0.14\n",
      "Iteration 9000: Cost     0.13\n",
      "Iteration 9999: Cost     0.13\n"
     ]
    }
   ],
   "source": [
    "np.random.seed(1)\n",
    "init_w = 0.01*(np.random.rand(x.shape[1]).reshape(-1, 1) - 0.5)\n",
    "init_b = -8\n",
    "iterations = 10000\n",
    "alpha = 0.01\n",
    "\n",
    "w, b, j_hist, _ = gradient_descent(x, y, init_w, init_b, alpha, 0, iterations, \n",
    "                                   compute_cost, compute_grad)"
   ]
  },
  {
   "cell_type": "code",
   "execution_count": 16,
   "metadata": {},
   "outputs": [
    {
     "data": {
      "image/png": "[encoded data removed]",
      "text/plain": [
       "<Figure size 640x480 with 1 Axes>"
      ]
     },
     "metadata": {},
     "output_type": "display_data"
    }
   ],
   "source": [
    "plot_x = np.array([min(x[:, 0]), max(x[:, 0])])\n",
    "plot_y = (-1. / w[1]) * (w[0] * plot_x + b)\n",
    "plt.plot(plot_x, plot_y, c=\"b\")\n",
    "plot_data()"
   ]
  },
  {
   "cell_type": "code",
   "execution_count": 11,
   "metadata": {},
   "outputs": [],
   "source": [
    "def predict(x, w, b):\n",
    "    m,_ = x.shape\n",
    "    p = np.zeros(m)\n",
    "\n",
    "    for i in range(m):\n",
    "        z = sigmoid(np.dot(x[i], w) + b)\n",
    "        p[i] = 1 if (z > 0.5) else 0\n",
    "\n",
    "    return p"
   ]
  },
  {
   "cell_type": "code",
   "execution_count": 12,
   "metadata": {},
   "outputs": [],
   "source": [
    "def cal_accuracy(y_true, y_pred):\n",
    "    return np.mean(np.equal(y_true, y_pred))"
   ]
  },
  {
   "cell_type": "code",
   "execution_count": 13,
   "metadata": {},
   "outputs": [
    {
     "name": "stdout",
     "output_type": "stream",
     "text": [
      "Train Accuracy :  0.98\n"
     ]
    }
   ],
   "source": [
    "print(\"Train Accuracy : \", cal_accuracy(y, predict(x, w, b)))"
   ]
  }
 ],
 "metadata": {
  "kernelspec": {
   "display_name": "base",
   "language": "python",
   "name": "python3"
  },
  "language_info": {
   "codemirror_mode": {
    "name": "ipython",
    "version": 3
   },
   "file_extension": ".py",
   "mimetype": "text/x-python",
   "name": "python",
   "nbconvert_exporter": "python",
   "pygments_lexer": "ipython3",
   "version": "3.11.4"
  }
 },
 "nbformat": 4,
 "nbformat_minor": 2
}
