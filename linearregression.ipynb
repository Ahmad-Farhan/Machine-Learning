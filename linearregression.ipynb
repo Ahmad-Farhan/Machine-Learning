{
 "cells": [
  {
   "cell_type": "markdown",
   "metadata": {},
   "source": [
    "## Multiple Linear Regression Model\n",
    "Dataset: Mastercard_stock_history"
   ]
  },
  {
   "cell_type": "code",
   "execution_count": 1,
   "metadata": {},
   "outputs": [],
   "source": [
    "import math\n",
    "import numpy as np \n",
    "import pandas as pd \n",
    "import matplotlib.pyplot as plt "
   ]
  },
  {
   "cell_type": "markdown",
   "metadata": {},
   "source": [
    "#### Reading Data"
   ]
  },
  {
   "cell_type": "code",
   "execution_count": 2,
   "metadata": {},
   "outputs": [
    {
     "data": {
      "text/html": [
       "<div>\n",
       "<style scoped>\n",
       "    .dataframe tbody tr th:only-of-type {\n",
       "        vertical-align: middle;\n",
       "    }\n",
       "\n",
       "    .dataframe tbody tr th {\n",
       "        vertical-align: top;\n",
       "    }\n",
       "\n",
       "    .dataframe thead th {\n",
       "        text-align: right;\n",
       "    }\n",
       "</style>\n",
       "<table border=\"1\" class=\"dataframe\">\n",
       "  <thead>\n",
       "    <tr style=\"text-align: right;\">\n",
       "      <th></th>\n",
       "      <th>Date</th>\n",
       "      <th>Open</th>\n",
       "      <th>High</th>\n",
       "      <th>Low</th>\n",
       "      <th>Close</th>\n",
       "      <th>Volume</th>\n",
       "      <th>Dividends</th>\n",
       "      <th>Stock Splits</th>\n",
       "    </tr>\n",
       "  </thead>\n",
       "  <tbody>\n",
       "    <tr>\n",
       "      <th>0</th>\n",
       "      <td>2006-05-25</td>\n",
       "      <td>3.748967</td>\n",
       "      <td>4.283869</td>\n",
       "      <td>3.739664</td>\n",
       "      <td>4.279217</td>\n",
       "      <td>395343000</td>\n",
       "      <td>0.0</td>\n",
       "      <td>0.0</td>\n",
       "    </tr>\n",
       "    <tr>\n",
       "      <th>1</th>\n",
       "      <td>2006-05-26</td>\n",
       "      <td>4.307126</td>\n",
       "      <td>4.348058</td>\n",
       "      <td>4.103398</td>\n",
       "      <td>4.179680</td>\n",
       "      <td>103044000</td>\n",
       "      <td>0.0</td>\n",
       "      <td>0.0</td>\n",
       "    </tr>\n",
       "    <tr>\n",
       "      <th>2</th>\n",
       "      <td>2006-05-30</td>\n",
       "      <td>4.183400</td>\n",
       "      <td>4.184330</td>\n",
       "      <td>3.986184</td>\n",
       "      <td>4.093164</td>\n",
       "      <td>49898000</td>\n",
       "      <td>0.0</td>\n",
       "      <td>0.0</td>\n",
       "    </tr>\n",
       "    <tr>\n",
       "      <th>3</th>\n",
       "      <td>2006-05-31</td>\n",
       "      <td>4.125723</td>\n",
       "      <td>4.219679</td>\n",
       "      <td>4.125723</td>\n",
       "      <td>4.180608</td>\n",
       "      <td>30002000</td>\n",
       "      <td>0.0</td>\n",
       "      <td>0.0</td>\n",
       "    </tr>\n",
       "    <tr>\n",
       "      <th>4</th>\n",
       "      <td>2006-06-01</td>\n",
       "      <td>4.179678</td>\n",
       "      <td>4.474572</td>\n",
       "      <td>4.176887</td>\n",
       "      <td>4.419686</td>\n",
       "      <td>62344000</td>\n",
       "      <td>0.0</td>\n",
       "      <td>0.0</td>\n",
       "    </tr>\n",
       "  </tbody>\n",
       "</table>\n",
       "</div>"
      ],
      "text/plain": [
       "         Date      Open      High       Low     Close     Volume  Dividends  \\\n",
       "0  2006-05-25  3.748967  4.283869  3.739664  4.279217  395343000        0.0   \n",
       "1  2006-05-26  4.307126  4.348058  4.103398  4.179680  103044000        0.0   \n",
       "2  2006-05-30  4.183400  4.184330  3.986184  4.093164   49898000        0.0   \n",
       "3  2006-05-31  4.125723  4.219679  4.125723  4.180608   30002000        0.0   \n",
       "4  2006-06-01  4.179678  4.474572  4.176887  4.419686   62344000        0.0   \n",
       "\n",
       "   Stock Splits  \n",
       "0           0.0  \n",
       "1           0.0  \n",
       "2           0.0  \n",
       "3           0.0  \n",
       "4           0.0  "
      ]
     },
     "execution_count": 2,
     "metadata": {},
     "output_type": "execute_result"
    }
   ],
   "source": [
    "file = pd.read_csv('../ML/Datasets/Mastercard_stock_history.csv')\n",
    "x1 = file['Open'].values\n",
    "x2 = file['High'].values\n",
    "x3 = file['Low'].values\n",
    "y = file['Close'].values\n",
    "file.head()"
   ]
  },
  {
   "cell_type": "markdown",
   "metadata": {},
   "source": [
    "#### Standardizing $x$ and $y$"
   ]
  },
  {
   "cell_type": "code",
   "execution_count": 3,
   "metadata": {},
   "outputs": [],
   "source": [
    "x = np.c_[x1, x2]\n",
    "x = (x - x.mean())/x.std()\n",
    "y = (y - y.mean())/y.std()\n",
    "\n",
    "x, y = x[:int(len(x)*0.8)], y[:int(len(y)*0.8)]\n",
    "x_test, y_test = x[int(len(x)*0.8):], y[int(len(y)*0.8):]"
   ]
  },
  {
   "cell_type": "code",
   "execution_count": 4,
   "metadata": {},
   "outputs": [],
   "source": [
    "def compute_cost(x, y, w, b):\n",
    "    cost_sum = 0.0\n",
    "    for i in range(x.shape[0]):\n",
    "        yi = np.dot(x[i], w) + b\n",
    "        cost_sum += (yi - y[i])**2\n",
    "    return cost_sum/(2*len(x))"
   ]
  },
  {
   "cell_type": "code",
   "execution_count": 5,
   "metadata": {},
   "outputs": [],
   "source": [
    "def compute_gradient(x, y, w, b):\n",
    "    m, n = x.shape\n",
    "    dw, db = np.zeros((n, )), 0\n",
    "\n",
    "    for i in range(m):\n",
    "        err = (np.dot(x[i], w) + b) - y[i]\n",
    "        for j in range(n):\n",
    "            dw[j] += err * x[i , j]\n",
    "        db += err\n",
    "\n",
    "    return dw/m, db/m"
   ]
  },
  {
   "cell_type": "code",
   "execution_count": 6,
   "metadata": {},
   "outputs": [],
   "source": [
    "class LinearRegression():\n",
    "    def __init__(self, alpha=0.001, iters=1000, cost_func=None, grad_func=None):\n",
    "        self.alpha = alpha\n",
    "        self.iters = iters\n",
    "        self.weights = None\n",
    "        self.bias = None\n",
    "        self.compute_cost = cost_func\n",
    "        self.compute_gradient = grad_func\n",
    "    \n",
    "    def fit(self, x, y):\n",
    "        self.weights, self.bias = np.zeros(x.shape[1]), 0.\n",
    "        j_hist = []\n",
    "\n",
    "        for i in range(self.iters):\n",
    "            dw, db = self.compute_gradient(x,y,self.weights,self.bias)\n",
    "            self.weights -= self.alpha * dw\n",
    "            self.bias -= self.alpha * db\n",
    "\n",
    "            if i < 100000:\n",
    "                j_hist.append(self.compute_cost(x, y, self.weights, self.bias))\n",
    "\n",
    "            if i% math.ceil(self.iters/10) == 0:\n",
    "                print(f\"Iteration {i:4}: Cost {j_hist[-1]:0.2e} \")\n",
    "\n",
    "        print(f\"(weights,bias) found by gradient descent: ({self.weights},{self.bias:8.4f})\")\n",
    "    \n",
    "    def predict(self, x):\n",
    "        return np.dot(x, self.weights) + self.bias"
   ]
  },
  {
   "cell_type": "code",
   "execution_count": 7,
   "metadata": {},
   "outputs": [
    {
     "name": "stdout",
     "output_type": "stream",
     "text": [
      "Iteration    0: Cost 1.97e-01 \n",
      "Iteration  100: Cost 1.54e-01 \n",
      "Iteration  200: Cost 1.21e-01 \n",
      "Iteration  300: Cost 9.63e-02 \n",
      "Iteration  400: Cost 7.78e-02 \n",
      "Iteration  500: Cost 6.39e-02 \n",
      "Iteration  600: Cost 5.34e-02 \n",
      "Iteration  700: Cost 4.53e-02 \n",
      "Iteration  800: Cost 3.90e-02 \n",
      "Iteration  900: Cost 3.41e-02 \n",
      "(weights,bias) found by gradient descent: ([0.23060177 0.23057903], -0.1931)\n"
     ]
    }
   ],
   "source": [
    "model = LinearRegression(cost_func=compute_cost, grad_func=compute_gradient)\n",
    "model.fit(x, y)"
   ]
  },
  {
   "cell_type": "markdown",
   "metadata": {},
   "source": [
    "## Predictions"
   ]
  },
  {
   "cell_type": "code",
   "execution_count": 8,
   "metadata": {},
   "outputs": [
    {
     "name": "stdout",
     "output_type": "stream",
     "text": [
      "Mean Squared Error(Test Data) : 0.14655824959615935\n",
      "Mean Squared Error(Train Data) : 0.06046169385982069\n"
     ]
    }
   ],
   "source": [
    "def mse(y_true, y_pred):\n",
    "    return np.mean((y_true - y_pred) ** 2)\n",
    "\n",
    "y_pred = model.predict(x_test)\n",
    "print(\"Mean Squared Error(Test Data) :\", mse(y_test, y_pred))\n",
    "print(\"Mean Squared Error(Train Data) :\", mse(y, model.predict(x)))"
   ]
  },
  {
   "cell_type": "code",
   "execution_count": 9,
   "metadata": {},
   "outputs": [
    {
     "data": {
      "image/png": "[encoded data removed]",
      "text/plain": [
       "<Figure size 640x480 with 1 Axes>"
      ]
     },
     "metadata": {},
     "output_type": "display_data"
    }
   ],
   "source": [
    "plt.scatter(y_test, y_pred)\n",
    "plt.plot([max(y_test), min(y_test)], [max(y_pred), min(y_pred)], color = 'red', linestyle = '--')\n",
    "plt.title(\"Actual vs. Predicted Plot\")\n",
    "plt.xlabel(\"Actual Values\")\n",
    "plt.ylabel(\"Predicted Values\")\n",
    "plt.show()"
   ]
  },
  {
   "cell_type": "code",
   "execution_count": null,
   "metadata": {},
   "outputs": [],
   "source": []
  }
 ],
 "metadata": {
  "kernelspec": {
   "display_name": "base",
   "language": "python",
   "name": "python3"
  },
  "language_info": {
   "codemirror_mode": {
    "name": "ipython",
    "version": 3
   },
   "file_extension": ".py",
   "mimetype": "text/x-python",
   "name": "python",
   "nbconvert_exporter": "python",
   "pygments_lexer": "ipython3",
   "version": "3.11.4"
  }
 },
 "nbformat": 4,
 "nbformat_minor": 2
}
