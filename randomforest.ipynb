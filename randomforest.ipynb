{
 "cells": [
  {
   "cell_type": "code",
   "execution_count": 9,
   "metadata": {},
   "outputs": [],
   "source": [
    "import numpy as np \n",
    "import pandas as pd \n",
    "import matplotlib.pyplot as plt \n",
    "from decisiontree import DecisionTree"
   ]
  },
  {
   "cell_type": "code",
   "execution_count": 10,
   "metadata": {},
   "outputs": [],
   "source": [
    "# Randomizing the order of column indexes of x, y \n",
    "# Before Randomization [0,1,2,3]\n",
    "# After randomization idx = [3,0,1,2] etc\n",
    "def bootstrap_sample(x, y):\n",
    "    n,_ = x.shape\n",
    "    idx = np.random.choice(n, n, replace=True)\n",
    "    return x[idx], y[idx]"
   ]
  },
  {
   "cell_type": "code",
   "execution_count": 11,
   "metadata": {},
   "outputs": [],
   "source": [
    "class RandomForest:\n",
    "    def __init__(self, n_trees, max_depth, n_feats, classifier=True, criterion='entropy'):\n",
    "        self.trees = []\n",
    "        self.n_trees = n_trees\n",
    "        self.n_feats = n_feats\n",
    "        self.max_depth = max_depth\n",
    "        self.criterion = criterion\n",
    "        self.classifier = classifier\n",
    "\n",
    "    def fit(self, x, y):\n",
    "        '''  \n",
    "        Create n_trees with same initial parameters \n",
    "        Fit all n trees to the data\n",
    "        '''\n",
    "        self.trees = []\n",
    "        for _ in range(self.n_trees):\n",
    "            x_sample, y_sample = bootstrap_sample(x, y)\n",
    "            tree = DecisionTree(n_feats = self.n_feats,\n",
    "                                max_depth = self.max_depth,\n",
    "                                criterion = self.criterion,\n",
    "                                classifier = self.classifier\n",
    "                                )\n",
    "            tree.fit(x_sample, y_sample)\n",
    "            self.trees.append(tree)\n",
    "    \n",
    "    def predict(self, x):\n",
    "        '''  \n",
    "        Traverse Each Tree n_sample number of times\n",
    "        Total Iterations = number of samples * number of trees, \n",
    "        For example for 3 trees and 4 samples, we get\n",
    "        tree_preds  =  [[1, 0, 1, 0],   # Predictions of Tree 1 for samples 1 to 4\n",
    "                        [0, 1, 1, 0],   # Predictions of Tree 2 for samples 1 to 4\n",
    "                        [1, 1, 0, 1]]   # Predictions of Tree 3 for samples 1 to 4\n",
    "        '''\n",
    "        tree_preds = np.array([[t._traverse(xi,t.root) for xi in x] for t in self.trees])\n",
    "        return self._vote(tree_preds)\n",
    "    \n",
    "    def _vote(self, predictions):\n",
    "        '''\n",
    "        if classification\n",
    "            returns an array of most frequently occuring prediction for a given sample\n",
    "            i.e, for the above tree_preds input, out will be [1,1,1,0]\n",
    "        if prediction\n",
    "            returns array of mean values of each column i.e, out = [.67, .67, .67, .33]\n",
    "        '''\n",
    "        if self.classifier:\n",
    "            out = [np.bincount(x).argmax() for x in predictions.T]\n",
    "        else: out = [np.mean(x) for x in predictions.T]\n",
    "        return np.array(out)"
   ]
  },
  {
   "cell_type": "code",
   "execution_count": 12,
   "metadata": {},
   "outputs": [
    {
     "name": "stdout",
     "output_type": "stream",
     "text": [
      "Total Records:  1728\n"
     ]
    },
    {
     "data": {
      "text/html": [
       "<div>\n",
       "<style scoped>\n",
       "    .dataframe tbody tr th:only-of-type {\n",
       "        vertical-align: middle;\n",
       "    }\n",
       "\n",
       "    .dataframe tbody tr th {\n",
       "        vertical-align: top;\n",
       "    }\n",
       "\n",
       "    .dataframe thead th {\n",
       "        text-align: right;\n",
       "    }\n",
       "</style>\n",
       "<table border=\"1\" class=\"dataframe\">\n",
       "  <thead>\n",
       "    <tr style=\"text-align: right;\">\n",
       "      <th></th>\n",
       "      <th>buying</th>\n",
       "      <th>maint</th>\n",
       "      <th>doors</th>\n",
       "      <th>persons</th>\n",
       "      <th>lug_boot</th>\n",
       "      <th>safety</th>\n",
       "      <th>class</th>\n",
       "    </tr>\n",
       "  </thead>\n",
       "  <tbody>\n",
       "    <tr>\n",
       "      <th>0</th>\n",
       "      <td>vhigh</td>\n",
       "      <td>vhigh</td>\n",
       "      <td>2</td>\n",
       "      <td>2</td>\n",
       "      <td>small</td>\n",
       "      <td>low</td>\n",
       "      <td>unacc</td>\n",
       "    </tr>\n",
       "    <tr>\n",
       "      <th>1</th>\n",
       "      <td>vhigh</td>\n",
       "      <td>vhigh</td>\n",
       "      <td>2</td>\n",
       "      <td>2</td>\n",
       "      <td>small</td>\n",
       "      <td>med</td>\n",
       "      <td>unacc</td>\n",
       "    </tr>\n",
       "    <tr>\n",
       "      <th>2</th>\n",
       "      <td>vhigh</td>\n",
       "      <td>vhigh</td>\n",
       "      <td>2</td>\n",
       "      <td>2</td>\n",
       "      <td>small</td>\n",
       "      <td>high</td>\n",
       "      <td>unacc</td>\n",
       "    </tr>\n",
       "    <tr>\n",
       "      <th>3</th>\n",
       "      <td>vhigh</td>\n",
       "      <td>vhigh</td>\n",
       "      <td>2</td>\n",
       "      <td>2</td>\n",
       "      <td>med</td>\n",
       "      <td>low</td>\n",
       "      <td>unacc</td>\n",
       "    </tr>\n",
       "    <tr>\n",
       "      <th>4</th>\n",
       "      <td>vhigh</td>\n",
       "      <td>vhigh</td>\n",
       "      <td>2</td>\n",
       "      <td>2</td>\n",
       "      <td>med</td>\n",
       "      <td>med</td>\n",
       "      <td>unacc</td>\n",
       "    </tr>\n",
       "  </tbody>\n",
       "</table>\n",
       "</div>"
      ],
      "text/plain": [
       "  buying  maint doors persons lug_boot safety  class\n",
       "0  vhigh  vhigh     2       2    small    low  unacc\n",
       "1  vhigh  vhigh     2       2    small    med  unacc\n",
       "2  vhigh  vhigh     2       2    small   high  unacc\n",
       "3  vhigh  vhigh     2       2      med    low  unacc\n",
       "4  vhigh  vhigh     2       2      med    med  unacc"
      ]
     },
     "execution_count": 12,
     "metadata": {},
     "output_type": "execute_result"
    }
   ],
   "source": [
    "file = pd.read_csv('../ML/Datasets/carstats.csv')\n",
    "print(\"Total Records: \", len(file))\n",
    "data = file.values\n",
    "file.head()"
   ]
  },
  {
   "cell_type": "code",
   "execution_count": 13,
   "metadata": {},
   "outputs": [
    {
     "name": "stdout",
     "output_type": "stream",
     "text": [
      "Unique Classes of Each Feature\n"
     ]
    },
    {
     "data": {
      "text/plain": [
       "[array([0, 1, 2, 3], dtype=object),\n",
       " array([0, 1, 2, 3], dtype=object),\n",
       " array([0, 1, 2, 3], dtype=object),\n",
       " array([0, 1, 2], dtype=object),\n",
       " array([0, 1, 2], dtype=object),\n",
       " array([0, 1, 2], dtype=object),\n",
       " array([0, 1, 2, 3], dtype=object)]"
      ]
     },
     "execution_count": 13,
     "metadata": {},
     "output_type": "execute_result"
    }
   ],
   "source": [
    "columns = []\n",
    "for idx in range(len(data[0])):\n",
    "    columns.append(np.unique(data[:, idx]))\n",
    "\n",
    "for i in range(len(data[0])):\n",
    "    feature = data[:, i]\n",
    "    classes = columns[i]\n",
    "    for idx, class_ in enumerate(classes):\n",
    "        feature[feature == class_] = idx\n",
    "\n",
    "columns.clear()\n",
    "for idx in range(len(data[0])):\n",
    "    columns.append(np.unique(data[:, idx]))\n",
    "print(\"Unique Classes of Each Feature\")\n",
    "columns"
   ]
  },
  {
   "cell_type": "code",
   "execution_count": 14,
   "metadata": {},
   "outputs": [
    {
     "name": "stdout",
     "output_type": "stream",
     "text": [
      "Train Data: 1382, Test Data: 346\n"
     ]
    },
    {
     "data": {
      "text/plain": [
       "(array([[3, 3, 0, 0, 2, 1],\n",
       "        [3, 3, 0, 0, 2, 2],\n",
       "        [3, 3, 0, 0, 2, 0],\n",
       "        ...,\n",
       "        [1, 3, 3, 0, 2, 0],\n",
       "        [1, 3, 3, 0, 1, 1],\n",
       "        [1, 3, 3, 0, 1, 2]]),\n",
       " array([2, 2, 2, ..., 2, 2, 2]))"
      ]
     },
     "execution_count": 14,
     "metadata": {},
     "output_type": "execute_result"
    }
   ],
   "source": [
    "x, y = data[:,:-1].astype(int), data[:,-1:].flatten().astype(int)\n",
    "x_test, y_test = x[int(0.8*len(x)):], y[int(0.8*len(y)):]\n",
    "x, y = x[:int(0.8*len(x))], y[:int(0.8*len(y))]\n",
    "print(f\"Train Data: {len(x)}, Test Data: {len(x_test)}\")\n",
    "x,y"
   ]
  },
  {
   "cell_type": "code",
   "execution_count": 15,
   "metadata": {},
   "outputs": [],
   "source": [
    "forest = RandomForest(n_trees=5,n_feats=7,max_depth=10,criterion='entropy')\n",
    "forest.fit(x, y)"
   ]
  },
  {
   "cell_type": "code",
   "execution_count": 16,
   "metadata": {},
   "outputs": [
    {
     "name": "stdout",
     "output_type": "stream",
     "text": [
      "Train Accuracy:  0.9898697539797395\n",
      "Test Accuracy:  0.6763005780346821\n"
     ]
    }
   ],
   "source": [
    "def accuracy(forest, x, y_true):\n",
    "    y_pred = forest.predict(x)\n",
    "    return np.sum(y_pred == y_true)/len(y_true)\n",
    "\n",
    "print(\"Train Accuracy: \", accuracy(forest, x, y))\n",
    "print(\"Test Accuracy: \", accuracy(forest, x_test, y_test))"
   ]
  },
  {
   "cell_type": "code",
   "execution_count": null,
   "metadata": {},
   "outputs": [],
   "source": []
  }
 ],
 "metadata": {
  "kernelspec": {
   "display_name": "base",
   "language": "python",
   "name": "python3"
  },
  "language_info": {
   "codemirror_mode": {
    "name": "ipython",
    "version": 3
   },
   "file_extension": ".py",
   "mimetype": "text/x-python",
   "name": "python",
   "nbconvert_exporter": "python",
   "pygments_lexer": "ipython3",
   "version": "3.11.4"
  }
 },
 "nbformat": 4,
 "nbformat_minor": 2
}
